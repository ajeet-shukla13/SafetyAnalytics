{
 "cells": [
  {
   "cell_type": "code",
   "execution_count": 1,
   "metadata": {
    "id": "XAEuo2M-3uKh"
   },
   "outputs": [],
   "source": [
    "import numpy as np\n",
    "import matplotlib.pyplot as plt\n",
    "import pandas as pd"
   ]
  },
  {
   "cell_type": "code",
   "execution_count": 2,
   "metadata": {
    "id": "2C6Mp-QA3yp-"
   },
   "outputs": [
    {
     "name": "stdout",
     "output_type": "stream",
     "text": [
      "    direct  indirect  benefit\n",
      "0     1498      3153     1995\n",
      "1     1376      3106     1809\n",
      "2     1168      3091     1808\n",
      "3      859      3054     1674\n",
      "4      752      3042     1564\n",
      "5     1491      3039     1824\n",
      "6     1476      3136     1994\n",
      "7      745      3033     1563\n",
      "8      833      3073     1692\n",
      "9      867      3057     1686\n",
      "10    1390      3152     1938\n",
      "11    1425      3147     1975\n",
      "12    1018      3087     1753\n",
      "13    1173      3020     1650\n",
      "14     833      3073     1692\n",
      "15    1414      3131     1951\n",
      "16     687      3022     1540\n",
      "17     951      3050     1739\n",
      "18     649      3027     1534\n",
      "19    1373      3152     1995\n",
      "20     772      3027     1577\n",
      "21     753      3137     1565\n",
      "22    1229      3147     1816\n",
      "23    1419      3136     1611\n",
      "24     729      3073     1561\n",
      "25     821      3045     1616\n",
      "26    1440      3114     1852\n",
      "27     625      3020     1520\n",
      "28     970      3032     1502\n",
      "29     526      3146     1979\n",
      "0     1504      3154     2003\n",
      "1     1377      3112     1813\n",
      "2     1175      3095     1817\n",
      "3      863      3057     1678\n",
      "4      754      3050     1573\n",
      "5     1495      3045     1825\n",
      "6     1478      3141     2002\n",
      "7      754      3036     1567\n",
      "8      837      3079     1700\n",
      "9      873      3062     1692\n",
      "10    1391      3161     1945\n",
      "11    1429      3152     1977\n",
      "12    1025      3094     1759\n",
      "13    1179      3025     1656\n",
      "14     838      3082     1694\n",
      "15    1421      3138     1956\n",
      "16     695      3023     1543\n",
      "17     959      3054     1746\n",
      "18     656      3029     1541\n",
      "19    1379      3157     1999\n",
      "20     778      3029     1578\n",
      "21     756      3140     1568\n",
      "22    1234      3149     1825\n",
      "23    1423      3139     1615\n",
      "24     736      3075     1563\n",
      "25     826      3046     1617\n",
      "26    1443      3121     1856\n",
      "27     628      3021     1527\n",
      "28     974      3036     1504\n",
      "29     532      3149     1984\n"
     ]
    }
   ],
   "source": [
    "dataset1 =pd.read_excel('reg1.xlsx')\n",
    "dataset2 =pd.read_excel('reg2.xlsx')\n",
    "dataset= pd.concat([dataset1, dataset2])\n",
    "print(dataset)"
   ]
  },
  {
   "cell_type": "code",
   "execution_count": 3,
   "metadata": {
    "id": "YMuDku5F38hl"
   },
   "outputs": [],
   "source": [
    "from sklearn.model_selection import train_test_split\n",
    "X_train, X_test, y_train, y_test = train_test_split(dataset.loc[:, dataset.columns != 'benefit'], dataset['benefit'], test_size=0.20, random_state=42)"
   ]
  },
  {
   "cell_type": "code",
   "execution_count": 4,
   "metadata": {},
   "outputs": [
    {
     "data": {
      "text/html": [
       "<div>\n",
       "<style scoped>\n",
       "    .dataframe tbody tr th:only-of-type {\n",
       "        vertical-align: middle;\n",
       "    }\n",
       "\n",
       "    .dataframe tbody tr th {\n",
       "        vertical-align: top;\n",
       "    }\n",
       "\n",
       "    .dataframe thead th {\n",
       "        text-align: right;\n",
       "    }\n",
       "</style>\n",
       "<table border=\"1\" class=\"dataframe\">\n",
       "  <thead>\n",
       "    <tr style=\"text-align: right;\">\n",
       "      <th></th>\n",
       "      <th>direct</th>\n",
       "      <th>indirect</th>\n",
       "    </tr>\n",
       "  </thead>\n",
       "  <tbody>\n",
       "    <tr>\n",
       "      <th>0</th>\n",
       "      <td>1498</td>\n",
       "      <td>3153</td>\n",
       "    </tr>\n",
       "    <tr>\n",
       "      <th>5</th>\n",
       "      <td>1491</td>\n",
       "      <td>3039</td>\n",
       "    </tr>\n",
       "    <tr>\n",
       "      <th>6</th>\n",
       "      <td>1478</td>\n",
       "      <td>3141</td>\n",
       "    </tr>\n",
       "    <tr>\n",
       "      <th>15</th>\n",
       "      <td>1421</td>\n",
       "      <td>3138</td>\n",
       "    </tr>\n",
       "    <tr>\n",
       "      <th>13</th>\n",
       "      <td>1173</td>\n",
       "      <td>3020</td>\n",
       "    </tr>\n",
       "    <tr>\n",
       "      <th>24</th>\n",
       "      <td>736</td>\n",
       "      <td>3075</td>\n",
       "    </tr>\n",
       "    <tr>\n",
       "      <th>3</th>\n",
       "      <td>863</td>\n",
       "      <td>3057</td>\n",
       "    </tr>\n",
       "    <tr>\n",
       "      <th>18</th>\n",
       "      <td>656</td>\n",
       "      <td>3029</td>\n",
       "    </tr>\n",
       "    <tr>\n",
       "      <th>12</th>\n",
       "      <td>1018</td>\n",
       "      <td>3087</td>\n",
       "    </tr>\n",
       "    <tr>\n",
       "      <th>27</th>\n",
       "      <td>628</td>\n",
       "      <td>3021</td>\n",
       "    </tr>\n",
       "    <tr>\n",
       "      <th>16</th>\n",
       "      <td>695</td>\n",
       "      <td>3023</td>\n",
       "    </tr>\n",
       "    <tr>\n",
       "      <th>20</th>\n",
       "      <td>778</td>\n",
       "      <td>3029</td>\n",
       "    </tr>\n",
       "  </tbody>\n",
       "</table>\n",
       "</div>"
      ],
      "text/plain": [
       "    direct  indirect\n",
       "0     1498      3153\n",
       "5     1491      3039\n",
       "6     1478      3141\n",
       "15    1421      3138\n",
       "13    1173      3020\n",
       "24     736      3075\n",
       "3      863      3057\n",
       "18     656      3029\n",
       "12    1018      3087\n",
       "27     628      3021\n",
       "16     695      3023\n",
       "20     778      3029"
      ]
     },
     "execution_count": 4,
     "metadata": {},
     "output_type": "execute_result"
    }
   ],
   "source": [
    "X_test"
   ]
  },
  {
   "cell_type": "code",
   "execution_count": 5,
   "metadata": {
    "scrolled": true
   },
   "outputs": [
    {
     "data": {
      "text/plain": [
       "0     1995\n",
       "5     1824\n",
       "6     2002\n",
       "15    1956\n",
       "13    1650\n",
       "24    1563\n",
       "3     1678\n",
       "18    1541\n",
       "12    1753\n",
       "27    1527\n",
       "16    1543\n",
       "20    1578\n",
       "Name: benefit, dtype: int64"
      ]
     },
     "execution_count": 5,
     "metadata": {},
     "output_type": "execute_result"
    }
   ],
   "source": [
    "y_test"
   ]
  },
  {
   "cell_type": "code",
   "execution_count": 6,
   "metadata": {
    "colab": {
     "base_uri": "https://localhost:8080/",
     "height": 74
    },
    "id": "8WYF2Bk-3_Vm",
    "outputId": "1f3c9324-852a-457e-ea69-f5999718c68a"
   },
   "outputs": [
    {
     "data": {
      "text/html": [
       "<style>#sk-container-id-1 {color: black;}#sk-container-id-1 pre{padding: 0;}#sk-container-id-1 div.sk-toggleable {background-color: white;}#sk-container-id-1 label.sk-toggleable__label {cursor: pointer;display: block;width: 100%;margin-bottom: 0;padding: 0.3em;box-sizing: border-box;text-align: center;}#sk-container-id-1 label.sk-toggleable__label-arrow:before {content: \"▸\";float: left;margin-right: 0.25em;color: #696969;}#sk-container-id-1 label.sk-toggleable__label-arrow:hover:before {color: black;}#sk-container-id-1 div.sk-estimator:hover label.sk-toggleable__label-arrow:before {color: black;}#sk-container-id-1 div.sk-toggleable__content {max-height: 0;max-width: 0;overflow: hidden;text-align: left;background-color: #f0f8ff;}#sk-container-id-1 div.sk-toggleable__content pre {margin: 0.2em;color: black;border-radius: 0.25em;background-color: #f0f8ff;}#sk-container-id-1 input.sk-toggleable__control:checked~div.sk-toggleable__content {max-height: 200px;max-width: 100%;overflow: auto;}#sk-container-id-1 input.sk-toggleable__control:checked~label.sk-toggleable__label-arrow:before {content: \"▾\";}#sk-container-id-1 div.sk-estimator input.sk-toggleable__control:checked~label.sk-toggleable__label {background-color: #d4ebff;}#sk-container-id-1 div.sk-label input.sk-toggleable__control:checked~label.sk-toggleable__label {background-color: #d4ebff;}#sk-container-id-1 input.sk-hidden--visually {border: 0;clip: rect(1px 1px 1px 1px);clip: rect(1px, 1px, 1px, 1px);height: 1px;margin: -1px;overflow: hidden;padding: 0;position: absolute;width: 1px;}#sk-container-id-1 div.sk-estimator {font-family: monospace;background-color: #f0f8ff;border: 1px dotted black;border-radius: 0.25em;box-sizing: border-box;margin-bottom: 0.5em;}#sk-container-id-1 div.sk-estimator:hover {background-color: #d4ebff;}#sk-container-id-1 div.sk-parallel-item::after {content: \"\";width: 100%;border-bottom: 1px solid gray;flex-grow: 1;}#sk-container-id-1 div.sk-label:hover label.sk-toggleable__label {background-color: #d4ebff;}#sk-container-id-1 div.sk-serial::before {content: \"\";position: absolute;border-left: 1px solid gray;box-sizing: border-box;top: 0;bottom: 0;left: 50%;z-index: 0;}#sk-container-id-1 div.sk-serial {display: flex;flex-direction: column;align-items: center;background-color: white;padding-right: 0.2em;padding-left: 0.2em;position: relative;}#sk-container-id-1 div.sk-item {position: relative;z-index: 1;}#sk-container-id-1 div.sk-parallel {display: flex;align-items: stretch;justify-content: center;background-color: white;position: relative;}#sk-container-id-1 div.sk-item::before, #sk-container-id-1 div.sk-parallel-item::before {content: \"\";position: absolute;border-left: 1px solid gray;box-sizing: border-box;top: 0;bottom: 0;left: 50%;z-index: -1;}#sk-container-id-1 div.sk-parallel-item {display: flex;flex-direction: column;z-index: 1;position: relative;background-color: white;}#sk-container-id-1 div.sk-parallel-item:first-child::after {align-self: flex-end;width: 50%;}#sk-container-id-1 div.sk-parallel-item:last-child::after {align-self: flex-start;width: 50%;}#sk-container-id-1 div.sk-parallel-item:only-child::after {width: 0;}#sk-container-id-1 div.sk-dashed-wrapped {border: 1px dashed gray;margin: 0 0.4em 0.5em 0.4em;box-sizing: border-box;padding-bottom: 0.4em;background-color: white;}#sk-container-id-1 div.sk-label label {font-family: monospace;font-weight: bold;display: inline-block;line-height: 1.2em;}#sk-container-id-1 div.sk-label-container {text-align: center;}#sk-container-id-1 div.sk-container {/* jupyter's `normalize.less` sets `[hidden] { display: none; }` but bootstrap.min.css set `[hidden] { display: none !important; }` so we also need the `!important` here to be able to override the default hidden behavior on the sphinx rendered scikit-learn.org. See: https://github.com/scikit-learn/scikit-learn/issues/21755 */display: inline-block !important;position: relative;}#sk-container-id-1 div.sk-text-repr-fallback {display: none;}</style><div id=\"sk-container-id-1\" class=\"sk-top-container\"><div class=\"sk-text-repr-fallback\"><pre>SVR()</pre><b>In a Jupyter environment, please rerun this cell to show the HTML representation or trust the notebook. <br />On GitHub, the HTML representation is unable to render, please try loading this page with nbviewer.org.</b></div><div class=\"sk-container\" hidden><div class=\"sk-item\"><div class=\"sk-estimator sk-toggleable\"><input class=\"sk-toggleable__control sk-hidden--visually\" id=\"sk-estimator-id-1\" type=\"checkbox\" checked><label for=\"sk-estimator-id-1\" class=\"sk-toggleable__label sk-toggleable__label-arrow\">SVR</label><div class=\"sk-toggleable__content\"><pre>SVR()</pre></div></div></div></div></div>"
      ],
      "text/plain": [
       "SVR()"
      ]
     },
     "execution_count": 6,
     "metadata": {},
     "output_type": "execute_result"
    }
   ],
   "source": [
    "from sklearn.svm import SVR\n",
    "svr=SVR()\n",
    "svr.fit(X_train, y_train)\n"
   ]
  },
  {
   "cell_type": "code",
   "execution_count": 7,
   "metadata": {
    "id": "gpUy_h_l4CnH"
   },
   "outputs": [],
   "source": [
    "import numpy as np\n",
    "import pandas as pd\n",
    "from sklearn.svm import SVR\n",
    "from sklearn.model_selection import GridSearchCV, train_test_split\n",
    "\n",
    "param_grid = {\n",
    "    'kernel': ['linear'],\n",
    "    'C': [0.1],\n",
    "    'epsilon': [0.01],\n",
    "    'gamma': ['scale', 'auto', 0.1, 1]\n",
    "}\n",
    "\n",
    "grid_search = GridSearchCV(estimator=svr, param_grid=param_grid, cv=5, scoring='neg_mean_squared_error', n_jobs=-1)\n",
    "\n",
    "grid_search.fit(X_train, y_train)\n",
    "\n",
    "best_params = grid_search.best_params_\n",
    "best_estimator = grid_search.best_estimator_"
   ]
  },
  {
   "cell_type": "code",
   "execution_count": 8,
   "metadata": {
    "id": "9idZ-tEj4Dhz"
   },
   "outputs": [],
   "source": [
    "svr_predictions = best_estimator.predict(X_test)"
   ]
  },
  {
   "cell_type": "code",
   "execution_count": 9,
   "metadata": {},
   "outputs": [
    {
     "data": {
      "text/plain": [
       "array([1987.80150016, 1755.26006243, 1958.94680308, 1939.91856272,\n",
       "       1644.51761083, 1656.65355052, 1649.04240637, 1545.28653441,\n",
       "       1745.03548444, 1522.71775618, 1541.99214238, 1573.00532408])"
      ]
     },
     "execution_count": 9,
     "metadata": {},
     "output_type": "execute_result"
    }
   ],
   "source": [
    "svr_predictions"
   ]
  },
  {
   "cell_type": "code",
   "execution_count": 10,
   "metadata": {
    "colab": {
     "base_uri": "https://localhost:8080/"
    },
    "id": "HQfm5F3Q4F5l",
    "outputId": "e339a9d0-1b21-4129-8e1b-b39802a0a3fe"
   },
   "outputs": [
    {
     "name": "stdout",
     "output_type": "stream",
     "text": [
      "Mean Squared Error: 1387.91\n",
      "Root Mean Squared Error: 37.25\n",
      "R-squared: 0.96\n",
      "Mean Absolute Error (MAE): 23.81\n",
      "Mean Absolute Percentage Error (MAPE): 1.38%\n",
      "Symmetric Mean absolute percentage error(sMAPE): 1.37%\n"
     ]
    }
   ],
   "source": [
    "from sklearn.metrics import mean_squared_error, r2_score\n",
    "from sklearn.metrics import mean_absolute_error\n",
    "\n",
    "# Calculate MAE\n",
    "mae = mean_absolute_error(y_test, svr_predictions)\n",
    "mape = np.mean(np.abs((y_test - svr_predictions) / y_test)) * 100\n",
    "\n",
    "# Print the result\n",
    "\n",
    "# Print or use the MAE value\n",
    "mse = mean_squared_error(y_test, svr_predictions)\n",
    "rmse = np.sqrt(mse)\n",
    "def symmetric_mean_absolute_percentage_error(y_test, svr_predictions):\n",
    "    # Avoiding division by zero\n",
    "    y_test, svr_pred = np.array(y_test), np.array(svr_predictions)\n",
    "    mask = y_test != 0\n",
    "    y_test, svr_predictions = y_test[mask], svr_predictions[mask]\n",
    "\n",
    "    # Calculate sMAPE\n",
    "    smape = 2 * np.mean(np.abs(svr_predictions - y_test) / (np.abs(svr_predictions) + np.abs(y_test))) * 100\n",
    "\n",
    "    return smape\n",
    "smape_value = symmetric_mean_absolute_percentage_error(y_test, svr_predictions)\n",
    "r2 = r2_score(y_test, svr_predictions)\n",
    "print(f\"Mean Squared Error: {mse:.2f}\")\n",
    "print(f\"Root Mean Squared Error: {rmse:.2f}\")\n",
    "print(f\"R-squared: {r2:.2f}\")\n",
    "print(f\"Mean Absolute Error (MAE): {mae:.2f}\")\n",
    "print(f\"Mean Absolute Percentage Error (MAPE): {mape:.2f}%\")\n",
    "print(f\"Symmetric Mean absolute percentage error(sMAPE): {smape_value:.2f}%\")"
   ]
  },
  {
   "cell_type": "code",
   "execution_count": 11,
   "metadata": {
    "id": "qTtIGdQB4IPZ"
   },
   "outputs": [],
   "source": [
    "from sklearn.ensemble import RandomForestRegressor\n",
    "regressor=RandomForestRegressor(n_estimators=10, random_state=42)\n",
    "regressor.fit(X_train, y_train)\n",
    "rf_predictions = regressor.predict(X_test)"
   ]
  },
  {
   "cell_type": "code",
   "execution_count": 12,
   "metadata": {},
   "outputs": [
    {
     "data": {
      "text/plain": [
       "array([1975.3, 1749.7, 1833. , 1613.4, 1658.4, 1570.4, 1681.2, 1542.9,\n",
       "       1768.8, 1531.5, 1536.1, 1571.7])"
      ]
     },
     "execution_count": 12,
     "metadata": {},
     "output_type": "execute_result"
    }
   ],
   "source": [
    "rf_predictions"
   ]
  },
  {
   "cell_type": "code",
   "execution_count": 13,
   "metadata": {
    "colab": {
     "base_uri": "https://localhost:8080/"
    },
    "id": "GOa2l9ow4MEZ",
    "outputId": "59854c0e-8e52-4c56-b75b-1e1b1fbff123"
   },
   "outputs": [
    {
     "name": "stdout",
     "output_type": "stream",
     "text": [
      "Mean Squared Error: 12695.06\n",
      "Root Mean Squared Error: 112.67\n",
      "R-squared: 0.59\n",
      "Mean Absolute Error (MAE): 55.00\n",
      "Mean Absolute Percentage Error (MAPE): 2.86%\n",
      "Symmetric Mean absolute percentage error(sMAPE): 3.04%\n"
     ]
    }
   ],
   "source": [
    "from sklearn.metrics import mean_squared_error, r2_score\n",
    "from sklearn.metrics import mean_absolute_error\n",
    "\n",
    "# Calculate MAE\n",
    "mae = mean_absolute_error(y_test,rf_predictions)\n",
    "\n",
    "# Print or use the MAE value\n",
    "mse = mean_squared_error(y_test,rf_predictions)\n",
    "rmse = np.sqrt(mse)\n",
    "mape = np.mean(np.abs((y_test - rf_predictions) / y_test)) * 100\n",
    "\n",
    "def symmetric_mean_absolute_percentage_error(y_test, rf_predictions):\n",
    "    # Avoiding division by zero\n",
    "    y_test, y_pred = np.array(y_test), np.array(rf_predictions)\n",
    "    mask = y_test != 0\n",
    "    y_test, rf_predictions = y_test[mask], rf_predictions[mask]\n",
    "\n",
    "    # Calculate sMAPE\n",
    "    smape = 2 * np.mean(np.abs(rf_predictions - y_test) / (np.abs(rf_predictions) + np.abs(y_test))) * 100\n",
    "\n",
    "    return smape\n",
    "\n",
    "# Calculate sMAPE\n",
    "smape_value = symmetric_mean_absolute_percentage_error(y_test, rf_predictions)\n",
    "\n",
    "r2 = r2_score(y_test,rf_predictions)\n",
    "print(f\"Mean Squared Error: {mse:.2f}\")\n",
    "print(f\"Root Mean Squared Error: {rmse:.2f}\")\n",
    "print(f\"R-squared: {r2:.2f}\")\n",
    "print(f\"Mean Absolute Error (MAE): {mae:.2f}\")\n",
    "print(f\"Mean Absolute Percentage Error (MAPE): {mape:.2f}%\")\n",
    "print(f\"Symmetric Mean absolute percentage error(sMAPE): {smape_value:.2f}%\")"
   ]
  },
  {
   "cell_type": "code",
   "execution_count": 14,
   "metadata": {
    "colab": {
     "base_uri": "https://localhost:8080/",
     "height": 74
    },
    "id": "cqX0ZWcE4NCG",
    "outputId": "8fe70b48-4700-4ffb-98dc-d733eb421c24"
   },
   "outputs": [
    {
     "data": {
      "text/html": [
       "<style>#sk-container-id-2 {color: black;}#sk-container-id-2 pre{padding: 0;}#sk-container-id-2 div.sk-toggleable {background-color: white;}#sk-container-id-2 label.sk-toggleable__label {cursor: pointer;display: block;width: 100%;margin-bottom: 0;padding: 0.3em;box-sizing: border-box;text-align: center;}#sk-container-id-2 label.sk-toggleable__label-arrow:before {content: \"▸\";float: left;margin-right: 0.25em;color: #696969;}#sk-container-id-2 label.sk-toggleable__label-arrow:hover:before {color: black;}#sk-container-id-2 div.sk-estimator:hover label.sk-toggleable__label-arrow:before {color: black;}#sk-container-id-2 div.sk-toggleable__content {max-height: 0;max-width: 0;overflow: hidden;text-align: left;background-color: #f0f8ff;}#sk-container-id-2 div.sk-toggleable__content pre {margin: 0.2em;color: black;border-radius: 0.25em;background-color: #f0f8ff;}#sk-container-id-2 input.sk-toggleable__control:checked~div.sk-toggleable__content {max-height: 200px;max-width: 100%;overflow: auto;}#sk-container-id-2 input.sk-toggleable__control:checked~label.sk-toggleable__label-arrow:before {content: \"▾\";}#sk-container-id-2 div.sk-estimator input.sk-toggleable__control:checked~label.sk-toggleable__label {background-color: #d4ebff;}#sk-container-id-2 div.sk-label input.sk-toggleable__control:checked~label.sk-toggleable__label {background-color: #d4ebff;}#sk-container-id-2 input.sk-hidden--visually {border: 0;clip: rect(1px 1px 1px 1px);clip: rect(1px, 1px, 1px, 1px);height: 1px;margin: -1px;overflow: hidden;padding: 0;position: absolute;width: 1px;}#sk-container-id-2 div.sk-estimator {font-family: monospace;background-color: #f0f8ff;border: 1px dotted black;border-radius: 0.25em;box-sizing: border-box;margin-bottom: 0.5em;}#sk-container-id-2 div.sk-estimator:hover {background-color: #d4ebff;}#sk-container-id-2 div.sk-parallel-item::after {content: \"\";width: 100%;border-bottom: 1px solid gray;flex-grow: 1;}#sk-container-id-2 div.sk-label:hover label.sk-toggleable__label {background-color: #d4ebff;}#sk-container-id-2 div.sk-serial::before {content: \"\";position: absolute;border-left: 1px solid gray;box-sizing: border-box;top: 0;bottom: 0;left: 50%;z-index: 0;}#sk-container-id-2 div.sk-serial {display: flex;flex-direction: column;align-items: center;background-color: white;padding-right: 0.2em;padding-left: 0.2em;position: relative;}#sk-container-id-2 div.sk-item {position: relative;z-index: 1;}#sk-container-id-2 div.sk-parallel {display: flex;align-items: stretch;justify-content: center;background-color: white;position: relative;}#sk-container-id-2 div.sk-item::before, #sk-container-id-2 div.sk-parallel-item::before {content: \"\";position: absolute;border-left: 1px solid gray;box-sizing: border-box;top: 0;bottom: 0;left: 50%;z-index: -1;}#sk-container-id-2 div.sk-parallel-item {display: flex;flex-direction: column;z-index: 1;position: relative;background-color: white;}#sk-container-id-2 div.sk-parallel-item:first-child::after {align-self: flex-end;width: 50%;}#sk-container-id-2 div.sk-parallel-item:last-child::after {align-self: flex-start;width: 50%;}#sk-container-id-2 div.sk-parallel-item:only-child::after {width: 0;}#sk-container-id-2 div.sk-dashed-wrapped {border: 1px dashed gray;margin: 0 0.4em 0.5em 0.4em;box-sizing: border-box;padding-bottom: 0.4em;background-color: white;}#sk-container-id-2 div.sk-label label {font-family: monospace;font-weight: bold;display: inline-block;line-height: 1.2em;}#sk-container-id-2 div.sk-label-container {text-align: center;}#sk-container-id-2 div.sk-container {/* jupyter's `normalize.less` sets `[hidden] { display: none; }` but bootstrap.min.css set `[hidden] { display: none !important; }` so we also need the `!important` here to be able to override the default hidden behavior on the sphinx rendered scikit-learn.org. See: https://github.com/scikit-learn/scikit-learn/issues/21755 */display: inline-block !important;position: relative;}#sk-container-id-2 div.sk-text-repr-fallback {display: none;}</style><div id=\"sk-container-id-2\" class=\"sk-top-container\"><div class=\"sk-text-repr-fallback\"><pre>KNeighborsRegressor()</pre><b>In a Jupyter environment, please rerun this cell to show the HTML representation or trust the notebook. <br />On GitHub, the HTML representation is unable to render, please try loading this page with nbviewer.org.</b></div><div class=\"sk-container\" hidden><div class=\"sk-item\"><div class=\"sk-estimator sk-toggleable\"><input class=\"sk-toggleable__control sk-hidden--visually\" id=\"sk-estimator-id-2\" type=\"checkbox\" checked><label for=\"sk-estimator-id-2\" class=\"sk-toggleable__label sk-toggleable__label-arrow\">KNeighborsRegressor</label><div class=\"sk-toggleable__content\"><pre>KNeighborsRegressor()</pre></div></div></div></div></div>"
      ],
      "text/plain": [
       "KNeighborsRegressor()"
      ]
     },
     "execution_count": 14,
     "metadata": {},
     "output_type": "execute_result"
    }
   ],
   "source": [
    "from sklearn.neighbors import KNeighborsRegressor\n",
    "knr = KNeighborsRegressor(n_neighbors=5, algorithm = 'auto')\n",
    "knr.fit(X_train, y_train)"
   ]
  },
  {
   "cell_type": "code",
   "execution_count": 15,
   "metadata": {
    "colab": {
     "base_uri": "https://localhost:8080/"
    },
    "id": "PYyYpwrF4R5E",
    "outputId": "13cb8fdd-f48c-494e-a19c-b58890752a6d"
   },
   "outputs": [
    {
     "name": "stdout",
     "output_type": "stream",
     "text": [
      "Mean Squared Error: 5054.70\n",
      "Root Mean Squared Error: 71.10\n",
      "R-squared: 0.84\n",
      "Mean Absolute Error (MAE): 52.05\n",
      "Mean Absolute Percentage Error (MAPE): 2.89%\n",
      "Symmetric Mean absolute percentage error(sMAPE): 2.89%\n"
     ]
    }
   ],
   "source": [
    "knn_predictions = knr.predict(X_test)\n",
    "mae = mean_absolute_error(y_test, knn_predictions)\n",
    "\n",
    "# Print or use the MAE value\n",
    "mse = mean_squared_error(y_test, knn_predictions)\n",
    "rmse = np.sqrt(mse)\n",
    "mape = np.mean(np.abs((y_test -knn_predictions) / y_test)) * 100\n",
    "\n",
    "def symmetric_mean_absolute_percentage_error(y_test, knn_predictions):\n",
    "    # Avoiding division by zero\n",
    "    y_test, y_pred = np.array(y_test), np.array(knn_predictions)\n",
    "    mask = y_test != 0\n",
    "    y_test, knn_predictions = y_test[mask], knn_predictions[mask]\n",
    "\n",
    "    # Calculate sMAPE\n",
    "    smape = 2 * np.mean(np.abs(knn_predictions -y_test) / (np.abs(knn_predictions) + np.abs(y_test))) * 100\n",
    "\n",
    "    return smape\n",
    "\n",
    "# Calculate sMAPE\n",
    "smape_value = symmetric_mean_absolute_percentage_error(y_test, knn_predictions)\n",
    "\n",
    "r2 = r2_score(y_test,knn_predictions)\n",
    "print(f\"Mean Squared Error: {mse:.2f}\")\n",
    "print(f\"Root Mean Squared Error: {rmse:.2f}\")\n",
    "print(f\"R-squared: {r2:.2f}\")\n",
    "print(f\"Mean Absolute Error (MAE): {mae:.2f}\")\n",
    "print(f\"Mean Absolute Percentage Error (MAPE): {mape:.2f}%\")\n",
    "print(f\"Symmetric Mean absolute percentage error(sMAPE): {smape_value:.2f}%\")"
   ]
  },
  {
   "cell_type": "code",
   "execution_count": 16,
   "metadata": {},
   "outputs": [
    {
     "data": {
      "text/plain": [
       "array([1936.4, 1906. , 1936.4, 1825.8, 1784.4, 1565.6, 1687.2, 1543.6,\n",
       "       1650. , 1543.6, 1553.6, 1568.8])"
      ]
     },
     "execution_count": 16,
     "metadata": {},
     "output_type": "execute_result"
    }
   ],
   "source": [
    "knn_predictions"
   ]
  },
  {
   "cell_type": "code",
   "execution_count": 17,
   "metadata": {
    "id": "6EHSxKsA4UbL"
   },
   "outputs": [],
   "source": [
    "from sklearn.neural_network import MLPRegressor\n",
    "from sklearn.datasets import make_regression\n",
    "from sklearn.model_selection import train_test_split\n",
    "# X, y = make_regression(n_samples=200, random_state=1)\n",
    "# X_train, X_test, y_train, y_test = train_test_split(X, y,\n",
    "regr = MLPRegressor(random_state=42)"
   ]
  },
  {
   "cell_type": "code",
   "execution_count": 18,
   "metadata": {
    "id": "3pWesWJC4X6-"
   },
   "outputs": [],
   "source": [
    "param_grid = {\n",
    "    'hidden_layer_sizes': [(50,), (100,), (50, 50), (100, 50, 25), (100, 100, 50, 25)],\n",
    "    'activation':['relu', 'tanh'],\n",
    "    'alpha': [0.0001, 0.001, 0.01],\n",
    "    'learning_rate': ['constant', 'invscaling', 'adaptive'],\n",
    "    'max_iter': [1000, 2000, 3000]\n",
    "}\n",
    "\n",
    "grid_search = GridSearchCV(estimator=regr, param_grid=param_grid, cv=5, scoring='neg_mean_squared_error', n_jobs=-1)\n",
    "\n",
    "# Fit the grid search object to the training data\n",
    "grid_search.fit(X_train, y_train)\n",
    "\n",
    "# Get the best hyperparameters and the best estimator from the grid search\n",
    "best_params = grid_search.best_params_\n",
    "best_estimator = grid_search.best_estimator_\n",
    "\n",
    "# Evaluate the best estimator on the test data\n",
    "ann_predictions = best_estimator.predict(X_test)"
   ]
  },
  {
   "cell_type": "code",
   "execution_count": 19,
   "metadata": {},
   "outputs": [
    {
     "data": {
      "text/plain": [
       "array([1831.84363739, 1769.0710101 , 1823.831087  , 1818.0354725 ,\n",
       "       1735.50153829, 1733.6688791 , 1733.10041646, 1702.71099512,\n",
       "       1760.78967848, 1696.29962189, 1702.27840008, 1711.60872938])"
      ]
     },
     "execution_count": 19,
     "metadata": {},
     "output_type": "execute_result"
    }
   ],
   "source": [
    "ann_predictions"
   ]
  },
  {
   "cell_type": "code",
   "execution_count": 20,
   "metadata": {
    "colab": {
     "base_uri": "https://localhost:8080/"
    },
    "id": "kaiQ8Ecl4aJl",
    "outputId": "bd7538df-86da-4930-cdef-cd13b7f2a5da"
   },
   "outputs": [
    {
     "name": "stdout",
     "output_type": "stream",
     "text": [
      "Mean Squared Error: 18165.37\n",
      "Root Mean Squared Error: 134.78\n",
      "R-squared: 0.42\n",
      "Mean Absolute Error (MAE): 123.10\n",
      "Mean Absolute Percentage Error (MAPE): 7.28%\n",
      "Symmetric Mean absolute percentage error(sMAPE): 7.14%\n"
     ]
    }
   ],
   "source": [
    "mae = mean_absolute_error(y_test, ann_predictions)\n",
    "\n",
    "# Print or use the MAE value\n",
    "mse = mean_squared_error(y_test,ann_predictions)\n",
    "rmse = np.sqrt(mse)\n",
    "mape = np.mean(np.abs((y_test - ann_predictions) /y_test)) * 100\n",
    "r2 = r2_score(y_test, ann_predictions)\n",
    "\n",
    "def symmetric_mean_absolute_percentage_error(y_test, ann_predictions):\n",
    "    # Avoiding division by zero\n",
    "    y_test, ann_predictions = np.array(y_test), np.array(ann_predictions)\n",
    "    mask =y_test!= 0\n",
    "    y_test, ann_predictions = y_test[mask],ann_predictions[mask]\n",
    "\n",
    "    # Calculate sMAPE\n",
    "    smape = 2 * np.mean(np.abs(ann_predictions - y_test) / (np.abs(ann_predictions) + np.abs(y_test))) * 100\n",
    "\n",
    "    return smape\n",
    "\n",
    "# Calculate sMAPE\n",
    "smape_value = symmetric_mean_absolute_percentage_error(y_test, ann_predictions)\n",
    "\n",
    "print(f\"Mean Squared Error: {mse:.2f}\")\n",
    "print(f\"Root Mean Squared Error: {rmse:.2f}\")\n",
    "print(f\"R-squared: {r2:.2f}\")\n",
    "print(f\"Mean Absolute Error (MAE): {mae:.2f}\")\n",
    "print(f\"Mean Absolute Percentage Error (MAPE): {mape:.2f}%\")\n",
    "print(f\"Symmetric Mean absolute percentage error(sMAPE): {smape_value:.2f}%\")"
   ]
  },
  {
   "cell_type": "code",
   "execution_count": 21,
   "metadata": {},
   "outputs": [
    {
     "name": "stdout",
     "output_type": "stream",
     "text": [
      "[1976.62998909 1788.02161375 1954.04652081 1915.11623625 1674.91940179\n",
      " 1636.86413299 1657.33551027 1544.91998603 1724.38064044 1527.25626612\n",
      " 1544.51497364 1572.09134641]\n",
      "Optimized Weights: [7.82661769e-01 1.62285101e-11 2.17338230e-01 3.41233208e-11]\n",
      "Final RMSE: 32.88684486699511\n",
      "Final MAE: 25.237741962950793\n"
     ]
    }
   ],
   "source": [
    "import numpy as np\n",
    "from scipy.optimize import minimize\n",
    "from sklearn.model_selection import train_test_split\n",
    "from sklearn.metrics import mean_squared_error\n",
    "from sklearn.svm import SVR\n",
    "from sklearn.ensemble import RandomForestRegressor\n",
    "from sklearn.neural_network import MLPRegressor\n",
    "from sklearn.neighbors import KNeighborsRegressor\n",
    "# Combine the predictions into a list\n",
    "model_predictions = [svr_predictions, rf_predictions, knn_predictions, ann_predictions]\n",
    "\n",
    "# Concatenate the predictions from all models for the test set\n",
    "def combined_predictions(weights, *args):\n",
    "    model_predictions = args\n",
    "    return np.dot(weights, model_predictions)\n",
    "\n",
    "# Objective function to minimize (RMSE)\n",
    "def objective_function(weights, *args):\n",
    "    y_test, model_predictions = args\n",
    "    combined_pred = combined_predictions(weights, *model_predictions)\n",
    "    rmse = np.sqrt(mean_squared_error(y_test, combined_pred))\n",
    "    return rmse\n",
    "\n",
    "# Constraints for weights\n",
    "constraints = ({'type': 'eq', 'fun': lambda w: 1 - sum(w)})\n",
    "\n",
    "# Initial guess for weights\n",
    "initial_weights = np.ones(len(model_predictions)) / len(model_predictions)\n",
    "# Minimize the objective function\n",
    "result = minimize(objective_function, initial_weights, args=(y_test, model_predictions), constraints=constraints, bounds=[(0, 1)] * len(model_predictions))\n",
    "\n",
    "# Extract the optimized weights\n",
    "optimized_weights = result.x\n",
    "\n",
    "# Combined prediction using optimized weights\n",
    "final_combined_pred = combined_predictions(optimized_weights, *model_predictions)\n",
    "\n",
    "# Evaluate the final RMSE\n",
    "print(final_combined_pred)\n",
    "final_rmse = np.sqrt(mean_squared_error(y_test, final_combined_pred))\n",
    "final_mae = np.mean(np.abs(y_test - final_combined_pred))\n",
    "print(f'Optimized Weights: {optimized_weights}')\n",
    "print(f'Final RMSE: {final_rmse}')\n",
    "print(f'Final MAE: {final_mae}')"
   ]
  },
  {
   "cell_type": "code",
   "execution_count": 22,
   "metadata": {
    "scrolled": false
   },
   "outputs": [
    {
     "name": "stdout",
     "output_type": "stream",
     "text": [
      "Optimized Weights: [ 7.82705131e-01 -6.47639904e-10  2.17294870e-01 -1.62399527e-10]\n",
      "Final MAE: 25.237098593955086\n",
      "Final RMSE: 32.886844986486956\n"
     ]
    }
   ],
   "source": [
    "import numpy as np\n",
    "from scipy.optimize import minimize\n",
    "from sklearn.metrics import mean_absolute_error, mean_squared_error\n",
    "\n",
    "# Objective function to minimize (MAE)\n",
    "def objective_function(weights, *args):\n",
    "    y_test, model_predictions = args\n",
    "    combined_pred = np.dot(weights, model_predictions)\n",
    "    mae = np.mean(np.abs(y_test - combined_pred))\n",
    "    return mae\n",
    "\n",
    "# Additional constraint\n",
    "def additional_constraint(weights, y_test, model_predictions):\n",
    "    combined_pred = np.dot(weights, model_predictions)\n",
    "    rmse = np.sqrt(mean_squared_error(y_test, combined_pred))\n",
    "    return 32.88684486699511-rmse\n",
    "\n",
    "# Constraints for weights\n",
    "constraints = [{'type': 'eq', 'fun': lambda w: 1 - sum(w)},\n",
    "               {'type': 'ineq', 'fun': lambda w: w},\n",
    "               {'type': 'ineq', 'fun': lambda w: additional_constraint(w, y_test, model_predictions)}]\n",
    "\n",
    "# Initial guess for weights\n",
    "initial_weights = np.ones(len(model_predictions)) / len(model_predictions)\n",
    "\n",
    "# Minimize the objective function\n",
    "result = minimize(objective_function, initial_weights, args=(y_test, model_predictions), constraints=constraints)\n",
    "\n",
    "# Extract the optimized weights\n",
    "optimized_weights = result.x\n",
    "\n",
    "# Combined prediction using optimized weights\n",
    "final_combined_pred = np.dot(optimized_weights, model_predictions)\n",
    "\n",
    "# Evaluate the final MAE and RMSE\n",
    "final_mae = np.mean(np.abs(y_test - final_combined_pred))\n",
    "final_rmse = np.sqrt(mean_squared_error(y_test, final_combined_pred))\n",
    "\n",
    "# Print the results\n",
    "print(f'Optimized Weights: {optimized_weights}')\n",
    "print(f'Final MAE: {final_mae}')\n",
    "print(f'Final RMSE: {final_rmse}')"
   ]
  },
  {
   "cell_type": "code",
   "execution_count": null,
   "metadata": {},
   "outputs": [],
   "source": [
    "\n"
   ]
  },
  {
   "cell_type": "code",
   "execution_count": null,
   "metadata": {},
   "outputs": [],
   "source": []
  },
  {
   "cell_type": "code",
   "execution_count": null,
   "metadata": {},
   "outputs": [],
   "source": []
  },
  {
   "cell_type": "code",
   "execution_count": null,
   "metadata": {},
   "outputs": [],
   "source": []
  },
  {
   "cell_type": "code",
   "execution_count": null,
   "metadata": {},
   "outputs": [],
   "source": []
  },
  {
   "cell_type": "code",
   "execution_count": null,
   "metadata": {},
   "outputs": [],
   "source": []
  },
  {
   "cell_type": "code",
   "execution_count": null,
   "metadata": {},
   "outputs": [],
   "source": []
  },
  {
   "cell_type": "code",
   "execution_count": null,
   "metadata": {},
   "outputs": [],
   "source": []
  },
  {
   "cell_type": "code",
   "execution_count": null,
   "metadata": {},
   "outputs": [],
   "source": []
  },
  {
   "cell_type": "code",
   "execution_count": null,
   "metadata": {},
   "outputs": [],
   "source": []
  },
  {
   "cell_type": "code",
   "execution_count": null,
   "metadata": {},
   "outputs": [],
   "source": []
  },
  {
   "cell_type": "code",
   "execution_count": null,
   "metadata": {},
   "outputs": [],
   "source": []
  },
  {
   "cell_type": "code",
   "execution_count": null,
   "metadata": {},
   "outputs": [],
   "source": []
  },
  {
   "cell_type": "code",
   "execution_count": null,
   "metadata": {},
   "outputs": [],
   "source": []
  },
  {
   "cell_type": "code",
   "execution_count": null,
   "metadata": {},
   "outputs": [],
   "source": []
  },
  {
   "cell_type": "code",
   "execution_count": null,
   "metadata": {},
   "outputs": [],
   "source": []
  },
  {
   "cell_type": "code",
   "execution_count": null,
   "metadata": {},
   "outputs": [],
   "source": []
  }
 ],
 "metadata": {
  "colab": {
   "provenance": []
  },
  "kernelspec": {
   "display_name": "Python 3 (ipykernel)",
   "language": "python",
   "name": "python3"
  },
  "language_info": {
   "codemirror_mode": {
    "name": "ipython",
    "version": 3
   },
   "file_extension": ".py",
   "mimetype": "text/x-python",
   "name": "python",
   "nbconvert_exporter": "python",
   "pygments_lexer": "ipython3",
   "version": "3.11.5"
  }
 },
 "nbformat": 4,
 "nbformat_minor": 1
}
